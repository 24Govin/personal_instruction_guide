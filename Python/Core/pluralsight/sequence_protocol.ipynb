{
 "cells": [
  {
   "cell_type": "markdown",
   "source": [
    "# The Sequence Protocol\r\n",
    "Implies container, sized, iterable\r\n",
    "\r\n",
    "Retrieve an ite by index:\r\n",
    "```python\r\n",
    "item = seq[index]\r\n",
    "```\r\n",
    "Optionally retrieve items by slicing:\r\n",
    "```python\r\n",
    "items = seq[start:stop]\r\n",
    "```\r\n",
    "Produce a reverse iterator:\r\n",
    "```python\r\n",
    "r = reversed(seq)\r\n",
    "```\r\n",
    "Locate an item by value:\r\n",
    "```python\r\n",
    "index = seq.index(item)\r\n",
    "```\r\n",
    "Count items:\r\n",
    "```python\r\n",
    "num = seq.count(item)\r\n",
    "```"
   ],
   "metadata": {}
  },
  {
   "cell_type": "code",
   "execution_count": null,
   "source": [],
   "outputs": [],
   "metadata": {}
  },
  {
   "cell_type": "markdown",
   "source": [],
   "metadata": {}
  }
 ],
 "metadata": {
  "orig_nbformat": 4,
  "language_info": {
   "name": "python"
  }
 },
 "nbformat": 4,
 "nbformat_minor": 2
}
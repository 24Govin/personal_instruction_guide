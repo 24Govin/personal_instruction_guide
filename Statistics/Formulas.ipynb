{
 "metadata": {
  "language_info": {
   "codemirror_mode": {
    "name": "ipython",
    "version": 3
   },
   "file_extension": ".py",
   "mimetype": "text/x-python",
   "name": "python",
   "nbconvert_exporter": "python",
   "pygments_lexer": "ipython3",
   "version": 3
  },
  "orig_nbformat": 4
 },
 "nbformat": 4,
 "nbformat_minor": 2,
 "cells": [
  {
   "source": [
    "# Formulas, Terms & Definitions"
   ],
   "cell_type": "markdown",
   "metadata": {}
  },
  {
   "source": [
    "# P-Value\n",
    "**P-Value:** \n",
    "Definitions:\n",
    "<ol>\n",
    "   <li> Probability that random chance generated the data, or something else that is equal or rarer. </li>\n",
    "   <li> Probability of obtaining results at least as extreme as the observed results ofa statistical hypothesis test, assuming that the null hypothesis\n",
    "      is correct. A smaller p-value means that there is stronger evidence in favor  of the alternative hypothesis. </li>\n",
    "   <li> A measure of the probability that an observed difference could have occurred just by random chance. </li>\n",
    "</ol>\n",
    "\n",
    "\n",
    "## Hypothesis Testing"
   ],
   "cell_type": "markdown",
   "metadata": {}
  },
  {
   "source": [
    "# Probability\n",
    "**Probability:** Likelihood of an event happening\n",
    "\n",
    "$$P(A)=\\frac{\\text{Number of Favourable Outcomes}}{\\text{Total Number of Favourable Outcomes}}$$\n",
    "\n",
    "or\n",
    "\n",
    "$$P(A)=\\frac{n(A)}{n(S)}$$\n",
    "\n",
    "Where,\n",
    "+ P(A) is the probability of event \"A\"\n",
    "+ n(A) is the number of favourable outcomes \n",
    "+ n(S) is the total number of events in the sample space\n"
   ],
   "cell_type": "markdown",
   "metadata": {}
  },
  {
   "source": [
    "# References\n",
    "+ [Investopedia: P-value](https://www.investopedia.com/terms/p/p-value.asp)\n",
    "+ [P-Values Explained](https://www.youtube.com/watch?v=5Z9OIYA8He8)"
   ],
   "cell_type": "markdown",
   "metadata": {}
  }
 ]
}